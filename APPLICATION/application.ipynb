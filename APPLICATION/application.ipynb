{
 "cells": [
  {
   "cell_type": "code",
   "execution_count": 1,
   "id": "intimate-copper",
   "metadata": {},
   "outputs": [
    {
     "name": "stderr",
     "output_type": "stream",
     "text": [
      "[nltk_data] Downloading package punkt to\n",
      "[nltk_data]     C:\\Users\\nicki\\AppData\\Roaming\\nltk_data...\n",
      "[nltk_data]   Package punkt is already up-to-date!\n",
      "[nltk_data] Downloading package wordnet to\n",
      "[nltk_data]     C:\\Users\\nicki\\AppData\\Roaming\\nltk_data...\n",
      "[nltk_data]   Package wordnet is already up-to-date!\n",
      "[nltk_data] Downloading package averaged_perceptron_tagger to\n",
      "[nltk_data]     C:\\Users\\nicki\\AppData\\Roaming\\nltk_data...\n",
      "[nltk_data]   Package averaged_perceptron_tagger is already up-to-\n",
      "[nltk_data]       date!\n"
     ]
    }
   ],
   "source": [
    "from chatterbot import ChatBot\n",
    "from chatterbot.trainers import ListTrainer\n",
    "from chatterbot.trainers import ChatterBotCorpusTrainer\n",
    "import os\n",
    "import wikipediaapi\n",
    "from flask import Flask, render_template, request\n",
    "# from chatbot import Chat,reflections,multiFunctionCall\n",
    "# import wikipedia\n",
    "import nltk\n",
    "import random\n",
    "import string\n",
    "import re, string, unicodedata\n",
    "from nltk.corpus import wordnet as wn\n",
    "from nltk.stem.wordnet import WordNetLemmatizer\n",
    "import wikipedia as wk\n",
    "from collections import defaultdict\n",
    "import warnings\n",
    "warnings.filterwarnings(\"ignore\")\n",
    "nltk.download('punkt') \n",
    "nltk.download('wordnet')\n",
    "nltk.download('averaged_perceptron_tagger')\n",
    "from sklearn.feature_extraction.text import TfidfVectorizer\n",
    "from sklearn.metrics.pairwise import cosine_similarity, linear_kernel\n",
    "import pandas as pd \n",
    "import numpy as np\n",
    "import matplotlib.pyplot as plt\n",
    "\n",
    "from chatterbot.trainers import ListTrainer"
   ]
  },
  {
   "cell_type": "code",
   "execution_count": 2,
   "id": "reasonable-essay",
   "metadata": {},
   "outputs": [
    {
     "name": "stdout",
     "output_type": "stream",
     "text": [
      "Training ai.yml: [####################] 100%\n",
      "Training botprofile.yml: [####################] 100%\n",
      "Training computers.yml: [####################] 100%\n",
      "Training conversations.yml: [####################] 100%\n",
      "Training emotion.yml: [####################] 100%\n",
      "Training food.yml: [####################] 100%\n",
      "Training gossip.yml: [####################] 100%\n",
      "Training greetings.yml: [####################] 100%\n",
      "Training health.yml: [####################] 100%\n",
      "Training history.yml: [####################] 100%\n",
      "Training humor.yml: [####################] 100%\n",
      "Training literature.yml: [####################] 100%\n",
      "Training money.yml: [####################] 100%\n",
      "Training movies.yml: [####################] 100%\n",
      "Training politics.yml: [####################] 100%\n",
      "Training psychology.yml: [####################] 100%\n",
      "Training science.yml: [####################] 100%\n",
      "Training sports.yml: [####################] 100%\n",
      "Training trivia.yml: [####################] 100%\n"
     ]
    }
   ],
   "source": [
    "bot=ChatBot(\"Anurag\")\n",
    "trainer = ChatterBotCorpusTrainer(bot)\n",
    "# Training \n",
    "trainer.train(\"chatterbot.corpus.english\")"
   ]
  },
  {
   "cell_type": "code",
   "execution_count": 3,
   "id": "extra-swedish",
   "metadata": {},
   "outputs": [
    {
     "name": "stdout",
     "output_type": "stream",
     "text": [
      "The disease predicted based on given symptoms is : Dengue\n"
     ]
    }
   ],
   "source": [
    "#Disease Prediction\n",
    "# Reading the symptoms dataset\n",
    "sym_data = pd.read_csv(\"training.csv\")\n",
    "\n",
    "sym_data = pd.concat([sym_data]*2, ignore_index=True)\n",
    "cols = sym_data.columns\n",
    "cols = cols[1:]\n",
    "\n",
    "x = sym_data[cols]\n",
    "y = sym_data['Disease']\n",
    "\n",
    "\n",
    "#Split data into train test\n",
    "from sklearn.model_selection import train_test_split\n",
    "x_train, x_test, y_train, y_test = train_test_split(x, y, test_size=0.33, random_state=42)\n",
    "\n",
    "\n",
    "from sklearn.naive_bayes import MultinomialNB\n",
    "mnb = MultinomialNB()\n",
    "clf_mnb=mnb.fit(x_train,y_train)\n",
    "\n",
    "features = cols\n",
    "\n",
    "feature_dict = {}\n",
    "for i,f in enumerate(features):\n",
    "    feature_dict[f] = i\n",
    "\n",
    "input_features = [feature_dict['skin_rash'], feature_dict['fatigue'], feature_dict['chills']]\n",
    "\n",
    "arr =[]\n",
    "for i in range(len(features)):\n",
    "  if i == input_features[0]:\n",
    "    i = int(i/input_features[0])\n",
    "  elif i == input_features[1]:\n",
    "    i = int(i/input_features[1])\n",
    "  elif i == input_features[2]:\n",
    "    i = int(i/input_features[2])\n",
    "  else:\n",
    "    i = 0\n",
    "  arr.append(i)\n",
    "\n",
    "arr = np.array(arr).reshape(-1,len(arr))\n",
    "\n",
    "predicted_disease = (clf_mnb.predict(arr))\n",
    "print(\"The disease predicted based on given symptoms is : \" + predicted_disease[0])"
   ]
  },
  {
   "cell_type": "code",
   "execution_count": 4,
   "id": "heavy-peoples",
   "metadata": {},
   "outputs": [
    {
     "name": "stdout",
     "output_type": "stream",
     "text": [
      "The disease predicted based on given symptoms is : Hepatitis E\n"
     ]
    }
   ],
   "source": [
    "# Making to accept one to many symptoms to predict disease \n",
    "input_features = [feature_dict['stomach_bleeding']]\n",
    "\n",
    "test_input_features = input_features.copy()\n",
    "arr_test = []\n",
    "for i in range(len(features)):\n",
    "    for j in range(len(test_input_features)):\n",
    "        if i == test_input_features[j]:\n",
    "            #i = int(i/test_input_features[j])\n",
    "            i = \"True\"\n",
    "    arr_test.append(i)  \n",
    "    \n",
    "for i in range(len(arr_test)):\n",
    "    if arr_test[i] == \"True\":\n",
    "        arr_test[i] = 1\n",
    "    else:\n",
    "        arr_test[i] = 0\n",
    "            \n",
    "    \n",
    "arr_test = np.array(arr_test).reshape(-1,len(arr_test))\n",
    "\n",
    "predicted_disease = (clf_mnb.predict(arr_test))\n",
    "print(\"The disease predicted based on given symptoms is : \" + predicted_disease[0])"
   ]
  },
  {
   "cell_type": "code",
   "execution_count": 5,
   "id": "blessed-meeting",
   "metadata": {},
   "outputs": [
    {
     "name": "stdout",
     "output_type": "stream",
     "text": [
      "[79, 78, 82, 121]\n"
     ]
    },
    {
     "data": {
      "text/plain": [
       "'Osteoarthristis'"
      ]
     },
     "execution_count": 5,
     "metadata": {},
     "output_type": "execute_result"
    }
   ],
   "source": [
    "# taking symptoms as input and predicting the disease\n",
    "def get_disease(symptom_name):\n",
    "  symptom_name = symptom_name.replace(\"I am suffering from \", \"\")\n",
    "  symptom_name = symptom_name.split(',')\n",
    "  input_features = []\n",
    "  for i in range(len(symptom_name)):\n",
    "    input_features.append(feature_dict[symptom_name[i]])\n",
    "  print(input_features)\n",
    "\n",
    "  arr = []\n",
    "  for i in range(len(features)):\n",
    "    for j in range(len(input_features)):\n",
    "        if i == input_features[j]:\n",
    "            i = \"True\"\n",
    "    arr.append(i)\n",
    "    \n",
    "  for i in range(len(arr)):\n",
    "    if arr[i] ==\"True\":\n",
    "        arr[i] = 1\n",
    "    else:\n",
    "        arr[i] = 0\n",
    "    \n",
    "\n",
    "  arr = np.array(arr).reshape(-1,len(arr))\n",
    "  predictedDisease = (mnb.predict(arr))\n",
    "  CB_response = predictedDisease[0]\n",
    "  return CB_response\n",
    "\n",
    "get_disease(\"I am suffering from hip_joint_pain,knee_pain,swelling_joints,painful_walking\")"
   ]
  },
  {
   "cell_type": "code",
   "execution_count": 6,
   "id": "portuguese-warner",
   "metadata": {},
   "outputs": [],
   "source": [
    "\n",
    "def drug_recommender_system(disease_predicted):\n",
    "  #Reading the dataset with sentiment analysis of reviews\n",
    "  merged_wavg = pd.read_csv('Drug_Recommender.csv')\n",
    "  # Taking drugs only with positive reviews for recommendation\n",
    "  merged_wavg = merged_wavg.drop( merged_wavg[merged_wavg['Review_Sentiment'] == \"Negative\"].index)\n",
    "  merged_wavg = merged_wavg.drop( merged_wavg[merged_wavg['Review_Sentiment'] == \"Neutral\"].index)\n",
    "\n",
    "  # Taking predicted disease as input and recommending drug based on highest weighted average of ratings\n",
    "  grouped = merged_wavg.groupby('Disease')\n",
    "  #disease_predicted = disease_predicted.lower()\n",
    "  recommended_drug = pd.DataFrame(grouped.get_group(disease_predicted).nlargest(4,['Rating_Wavg']))\n",
    "  recommended_drug.Drug = recommended_drug.Drug.str.upper()\n",
    "  recommended_drug = recommended_drug.drop(columns= ['Review', 'Review_Sentiment','Rating_Wavg'])\n",
    "\n",
    "  recDrug = list(recommended_drug[\"Drug\"])\n",
    "  return recDrug\n",
    "\n"
   ]
  },
  {
   "cell_type": "code",
   "execution_count": 7,
   "id": "diverse-consideration",
   "metadata": {},
   "outputs": [
    {
     "name": "stdout",
     "output_type": "stream",
     "text": [
      "['GLUCOSAMINE', 'ZOSTRIX', 'BEXTRA', 'VALDECOXIB']\n",
      "4\n",
      "Please take this medicine: GLUCOSAMINE, ZOSTRIX,BEXTRA,VALDECOXIB\n",
      "False\n"
     ]
    }
   ],
   "source": [
    "# taking predicted disease as input and recommending drug based on highest weighted average of ratings\n",
    "def get_drug(user_disease):\n",
    "  user_disease = user_disease.replace(\"Medicine for \", \"\")\n",
    "  drugName = drug_recommender_system(user_disease.capitalize())\n",
    "  print(drugName)\n",
    "  print(len(drugName))\n",
    "  if len(drugName) > 2 :\n",
    "    return \"Please take this medicine: \" + drugName[0] + \", \"+ drugName[1] + \",\"+drugName[2] + \",\" + drugName[3]\n",
    "  elif len(drugName) >= 1 and len(drugName) <=2 or len(drugName) != 0 :\n",
    "    return \"Please take this medicine: \" + drugName[0]\n",
    "  elif len(drugName) == 0:\n",
    "    return \"Please Come With Different Name .\"\n",
    "\n",
    "mesg = \"Medicine for Osteoarthristis\"\n",
    "print(get_drug(mesg))\n",
    "print(\"Osteoarthritis\" == \"Osteoarthristis\")"
   ]
  },
  {
   "cell_type": "code",
   "execution_count": 8,
   "id": "talented-omega",
   "metadata": {},
   "outputs": [],
   "source": [
    "sent_tokens=[]\n",
    "def Normalize(text):\n",
    "    remove_punct_dict = dict((ord(punct), None) for punct in string.punctuation)\n",
    "    #word tokenization\n",
    "    word_token = nltk.word_tokenize(text.lower().translate(remove_punct_dict))\n",
    "    \n",
    "    #remove ascii\n",
    "    new_words = []\n",
    "    for word in word_token:\n",
    "        new_word = unicodedata.normalize('NFKD', word).encode('ascii', 'ignore').decode('utf-8', 'ignore')\n",
    "        new_words.append(new_word)\n",
    "    \n",
    "    #Remove tags\n",
    "    rmv = []\n",
    "    for w in new_words:\n",
    "        text=re.sub(\"&lt;/?.*?&gt;\",\"&lt;&gt;\",w)\n",
    "        rmv.append(text)\n",
    "        \n",
    "    #pos tagging and lemmatization\n",
    "    tag_map = defaultdict(lambda : wn.NOUN)\n",
    "    tag_map['J'] = wn.ADJ\n",
    "    tag_map['V'] = wn.VERB\n",
    "    tag_map['R'] = wn.ADV\n",
    "    lmtzr = WordNetLemmatizer()\n",
    "    lemma_list = []\n",
    "    rmv = [i for i in rmv if i]\n",
    "    for token, tag in nltk.pos_tag(rmv):\n",
    "        lemma = lmtzr.lemmatize(token, tag_map[tag[0]])\n",
    "        lemma_list.append(lemma)\n",
    "    return lemma_list\n",
    "\n",
    "\n",
    "welcome_input = (\"greetings\", \"sup\", \"what's up\",\"hey\",\"how are you\")\n",
    "welcome_response = [\"*nods*\", \"hello\", \"I am glad! You are talking to me\"]\n",
    "def welcome(user_response):\n",
    "    for word in user_response.split():\n",
    "        if word.lower() in welcome_input:\n",
    "            return random.choice(welcome_response)\n",
    "\n",
    "\n"
   ]
  },
  {
   "cell_type": "code",
   "execution_count": 9,
   "id": "quantitative-washington",
   "metadata": {},
   "outputs": [],
   "source": [
    "\n",
    "def generateResponse(user_response):\n",
    "    try:\n",
    "        robo_response=''\n",
    "        sent_tokens.append(user_response)\n",
    "        TfidfVec = TfidfVectorizer(tokenizer=Normalize, stop_words='english')\n",
    "        tfidf = TfidfVec.fit_transform(sent_tokens)\n",
    "        #vals = cosine_similarity(tfidf[-1], tfidf)\n",
    "        vals = linear_kernel(tfidf[-1], tfidf)\n",
    "        idx=vals.argsort()[0]\n",
    "        flat = vals.flatten()\n",
    "        flat.sort()\n",
    "        req_tfidf = flat[0]\n",
    "         #print(\"asdfdsf:\",user_response)\n",
    "        #welcome(user_response)\n",
    "        print(user_response)  \n",
    "        if \"I am suffering from\" in user_response:\n",
    "            print(\"from 1st condition\")\n",
    "            if user_response:\n",
    "                predictedDisease = get_disease(user_response)\n",
    "                print(predictedDisease)\n",
    "                predictedDrug = drug_recommender_system(predictedDisease)\n",
    "                return \"You are Infected by \" + predictedDisease + \". This Medicines \" + predictedDrug[0] +  \",\"+ predictedDrug[1] + \",\" + predictedDrug[2] + \" will treat you soon .\"\n",
    "                         \n",
    "        elif \"Medicine for\" in user_response:\n",
    "            print(\"from 2nd condition\")\n",
    "            if user_response:\n",
    "                predictedDrug = get_drug(user_response)\n",
    "                return predictedDrug \n",
    "        else:\n",
    "            #robo_response = robo_response+sent_tokens[idx]\n",
    "            #return robo_response\n",
    "            print(\"from 3rd condition\")\n",
    "            try:\n",
    "                robo_response=bot.get_response(user_response)\n",
    "                print(robo_response)\n",
    "                return robo_response\n",
    "            except Exception as e:\n",
    "                print(\"Sorry, I do not know the response\")\n",
    "    except:\n",
    "        #return welcome(user_response)\n",
    "        return \"Sorry, but idk\"\n",
    "\n",
    "\n"
   ]
  },
  {
   "cell_type": "code",
   "execution_count": 10,
   "id": "located-mobility",
   "metadata": {},
   "outputs": [
    {
     "name": "stdout",
     "output_type": "stream",
     "text": [
      "I am suffering from knee_pain,hip_joint_pain\n",
      "from 1st condition\n",
      "[78, 79]\n",
      "Osteoarthristis\n",
      "You are Infected by Osteoarthristis. This Medicines GLUCOSAMINE,ZOSTRIX,BEXTRA will treat you soon .\n"
     ]
    }
   ],
   "source": [
    "mesg = \"I am suffering from knee_pain,hip_joint_pain\"\n",
    "mesg1 = \"Medicine for fever\"\n",
    "res2 = generateResponse(mesg)\n",
    "\n",
    "print(res2)"
   ]
  },
  {
   "cell_type": "code",
   "execution_count": 11,
   "id": "hollywood-variable",
   "metadata": {},
   "outputs": [
    {
     "name": "stderr",
     "output_type": "stream",
     "text": [
      "A subdirectory or file templates already exists.\n",
      "Error occurred while processing: templates.\n",
      "A subdirectory or file -p already exists.\n",
      "Error occurred while processing: -p.\n"
     ]
    }
   ],
   "source": [
    "%mkdir templates -p"
   ]
  },
  {
   "cell_type": "code",
   "execution_count": 12,
   "id": "alternative-sequence",
   "metadata": {},
   "outputs": [
    {
     "name": "stdout",
     "output_type": "stream",
     "text": [
      "Overwriting templates/home.html\n"
     ]
    }
   ],
   "source": [
    "%%writefile templates/home.html\n",
    "<!doctype html>\n",
    "<html lang=\"en\">\n",
    "\n",
    "<head>\n",
    "    <link\n",
    "      rel=\"shortcut icon\"\n",
    "      type=\"image/x-icon\"\n",
    "      href=\"/content/drive/My Drive/gtdt/Notebooks/UI_Files/Doctor_Icon.jpg\"\n",
    "    />\n",
    "    <script src=\"https://ajax.googleapis.com/ajax/libs/jquery/3.2.1/jquery.min.js\"></script>\n",
    "    <style>\n",
    "      body {\n",
    "        font-family: monospace;\n",
    "      }\n",
    "      h1 {\n",
    "        background-color: yellow;\n",
    "        display: inline-block;\n",
    "        font-size: 3em;\n",
    "        margin: 0;\n",
    "        padding: 14px;\n",
    "      }\n",
    "      h3 {\n",
    "        color: black;\n",
    "        font-size: 20px;\n",
    "        margin-top: 3px;\n",
    "        text-align: center;\n",
    "      }\n",
    "      #chatbox {\n",
    "        margin-left: auto;\n",
    "        margin-right: auto;\n",
    "        width: 40%;\n",
    "        margin-top: 60px;\n",
    "      }\n",
    "      #userInput {\n",
    "        margin-left: auto;\n",
    "        margin-right: auto;\n",
    "        width: 40%;\n",
    "        margin-top: 60px;\n",
    "      }\n",
    "      #textInput {\n",
    "        width: 90%;\n",
    "        border: none;\n",
    "        border-bottom: 3px solid black;\n",
    "        font-family: monospace;\n",
    "        font-size: 17px;\n",
    "      }\n",
    "      .userText {\n",
    "        color: white;\n",
    "        font-family: monospace;\n",
    "        font-size: 17px;\n",
    "        text-align: right;\n",
    "        line-height: 30px;\n",
    "      }\n",
    "      .userText span {\n",
    "        background-color: #808080;\n",
    "        padding: 10px;\n",
    "        border-radius: 2px;\n",
    "      }\n",
    "      .botText {\n",
    "        color: white;\n",
    "        font-family: monospace;\n",
    "        font-size: 17px;\n",
    "        text-align: left;\n",
    "        line-height: 30px;\n",
    "      }\n",
    "      .botText span {\n",
    "        background-color: #4169e1;\n",
    "        padding: 10px;\n",
    "        border-radius: 2px;\n",
    "      }\n",
    "      #tidbit {\n",
    "        position: absolute;\n",
    "        bottom: 0;\n",
    "        right: 0;\n",
    "        width: 300px;\n",
    "      }\n",
    "      .boxed {\n",
    "        margin-left: auto;\n",
    "        margin-right: auto;\n",
    "        width: 78%;\n",
    "        margin-top: 60px;\n",
    "        border: 1px solid green;\n",
    "      }\n",
    "      .box {\n",
    "        border: 2px solid black;\n",
    "      }\n",
    "    </style>\n",
    "</head>\n",
    "\n",
    "<body>\n",
    "  <body>\n",
    "    <center>\n",
    "      <h1>\n",
    "      Drug Recommender System\n",
    "      </h1>\n",
    "    </center>\n",
    "<div class=\"box\"></div>\n",
    "    <div class=\"boxed\">\n",
    "      <div>\n",
    "        <div id=\"chatbox\">\n",
    "          <img\n",
    "            src=\"https://image.freepik.com/free-vector/doctor-icon-avatar-white_136162-58.jpg\"\n",
    "            alt=\"Navaneethan\"\n",
    "            style=\"width:40px;height:40px;\"\n",
    "          />\n",
    "          <p class=\"botText\">\n",
    "            <span>Hi! I am Navaneethan. I shall be your personal doctor.</span>\n",
    "          </p>\n",
    "        </div>\n",
    "        <div id=\"userInput\">\n",
    "          <input id=\"textInput\" type=\"text\" name=\"msg\" placeholder=\"Message\" />\n",
    "        </div>\n",
    "      </div>\n",
    "    </div>\n",
    "\n",
    "    <script>\n",
    "        function getBotResponse() {\n",
    "          var rawText = $(\"#textInput\").val();\n",
    "          var userHtml = '<p class=\"userText\"><span>' + rawText + \"</span></p>\";\n",
    "          $(\"#textInput\").val(\"\");\n",
    "          $(\"#chatbox\").append(userHtml);\n",
    "          document\n",
    "            .getElementById(\"userInput\")\n",
    "            .scrollIntoView({ block: \"start\", behavior: \"smooth\" });\n",
    "          $.get(\"/get\", { msg: rawText }).done(function(data) {\n",
    "            var botHtml = '<p class=\"botText\"><span>' + data + \"</span></p>\";\n",
    "            $(\"#chatbox\").append(botHtml);\n",
    "            document\n",
    "              .getElementById(\"userInput\")\n",
    "              .scrollIntoView({ block: \"start\", behavior: \"smooth\" });\n",
    "          });\n",
    "        }\n",
    "        $(\"#textInput\").keypress(function(e) {\n",
    "          if (e.which == 13) {\n",
    "            getBotResponse();\n",
    "          }\n",
    "        });\n",
    "</script>\n",
    "  </body>\n",
    "</body>\n",
    "\n",
    "</html>"
   ]
  },
  {
   "cell_type": "code",
   "execution_count": 13,
   "id": "needed-beach",
   "metadata": {},
   "outputs": [
    {
     "name": "stdout",
     "output_type": "stream",
     "text": [
      "Overwriting templates/about.html\n"
     ]
    }
   ],
   "source": [
    "%%writefile templates/about.html\n",
    "<!DOCTYPE html>\n",
    "<html>\n",
    "<head>\n",
    "<title>Page Title</title>\n",
    "</head>\n",
    "<body>\n",
    "\n",
    "<h1>This is a Heading</h1>\n",
    "<p>This is a paragraph.</p>\n",
    "\n",
    "</body>\n",
    "</html>"
   ]
  },
  {
   "cell_type": "code",
   "execution_count": 14,
   "id": "absent-height",
   "metadata": {},
   "outputs": [
    {
     "name": "stdout",
     "output_type": "stream",
     "text": [
      " * Serving Flask app \"__main__\" (lazy loading)\n",
      " * Environment: production\n",
      "   WARNING: This is a development server. Do not use it in a production deployment.\n",
      "   Use a production WSGI server instead.\n",
      " * Debug mode: off\n"
     ]
    },
    {
     "name": "stderr",
     "output_type": "stream",
     "text": [
      " * Running on http://127.0.0.1:5000/ (Press CTRL+C to quit)\n",
      "127.0.0.1 - - [25/May/2022 09:11:19] \"\u001b[37mGET / HTTP/1.1\u001b[0m\" 200 -\n",
      "127.0.0.1 - - [25/May/2022 09:11:38] \"\u001b[33mGET /content/drive/My%20Drive/gtdt/Notebooks/UI_Files/Doctor_Icon.jpg HTTP/1.1\u001b[0m\" 404 -\n"
     ]
    },
    {
     "name": "stdout",
     "output_type": "stream",
     "text": [
      "<class 'str'>\n",
      "I am suffering from hip_joint_pain,knee_pain,swelling_joints,painful_walking\n",
      "from 1st condition\n",
      "[79, 78, 82, 121]\n",
      "Osteoarthristis\n"
     ]
    },
    {
     "name": "stderr",
     "output_type": "stream",
     "text": [
      "127.0.0.1 - - [25/May/2022 09:11:50] \"\u001b[37mGET /get?msg=I%20am%20suffering%20from%20hip_joint_pain%2Cknee_pain%2Cswelling_joints%2Cpainful_walking HTTP/1.1\u001b[0m\" 200 -\n"
     ]
    },
    {
     "name": "stdout",
     "output_type": "stream",
     "text": [
      "You are Infected by Osteoarthristis. This Medicines GLUCOSAMINE,ZOSTRIX,BEXTRA will treat you soon .\n"
     ]
    },
    {
     "name": "stderr",
     "output_type": "stream",
     "text": [
      "127.0.0.1 - - [25/May/2022 09:16:54] \"\u001b[37mGET / HTTP/1.1\u001b[0m\" 200 -\n"
     ]
    },
    {
     "name": "stdout",
     "output_type": "stream",
     "text": [
      "<class 'str'>\n",
      "hi\n",
      "from 3rd condition\n"
     ]
    },
    {
     "name": "stderr",
     "output_type": "stream",
     "text": [
      "127.0.0.1 - - [25/May/2022 09:17:12] \"\u001b[37mGET /get?msg=hi HTTP/1.1\u001b[0m\" 200 -\n"
     ]
    },
    {
     "name": "stdout",
     "output_type": "stream",
     "text": [
      "Hello\n",
      "Hello\n",
      "<class 'str'>\n",
      "how are you\n",
      "from 3rd condition\n"
     ]
    },
    {
     "name": "stderr",
     "output_type": "stream",
     "text": [
      "127.0.0.1 - - [25/May/2022 09:17:19] \"\u001b[37mGET /get?msg=how%20are%20you HTTP/1.1\u001b[0m\" 200 -\n"
     ]
    },
    {
     "name": "stdout",
     "output_type": "stream",
     "text": [
      "I am on the Internet.\n",
      "I am on the Internet.\n",
      "<class 'str'>\n",
      "I am suffering from hip_joint_pain,knee_pain,swelling_joints,painful_walking\n",
      "from 1st condition\n",
      "[79, 78, 82, 121]\n",
      "Osteoarthristis\n"
     ]
    },
    {
     "name": "stderr",
     "output_type": "stream",
     "text": [
      "127.0.0.1 - - [25/May/2022 09:17:25] \"\u001b[37mGET /get?msg=I%20am%20suffering%20from%20hip_joint_pain%2Cknee_pain%2Cswelling_joints%2Cpainful_walking HTTP/1.1\u001b[0m\" 200 -\n"
     ]
    },
    {
     "name": "stdout",
     "output_type": "stream",
     "text": [
      "You are Infected by Osteoarthristis. This Medicines GLUCOSAMINE,ZOSTRIX,BEXTRA will treat you soon .\n",
      "<class 'str'>\n",
      "Medicine for Osteoarthristis\n",
      "from 2nd condition\n"
     ]
    },
    {
     "name": "stderr",
     "output_type": "stream",
     "text": [
      "127.0.0.1 - - [25/May/2022 09:17:57] \"\u001b[37mGET /get?msg=Medicine%20for%20Osteoarthristis HTTP/1.1\u001b[0m\" 200 -\n"
     ]
    },
    {
     "name": "stdout",
     "output_type": "stream",
     "text": [
      "['GLUCOSAMINE', 'ZOSTRIX', 'BEXTRA', 'VALDECOXIB']\n",
      "4\n",
      "Please take this medicine: GLUCOSAMINE, ZOSTRIX,BEXTRA,VALDECOXIB\n",
      "<class 'str'>\n",
      "thanking\n",
      "from 3rd condition\n"
     ]
    },
    {
     "name": "stderr",
     "output_type": "stream",
     "text": [
      "127.0.0.1 - - [25/May/2022 09:18:10] \"\u001b[37mGET /get?msg=thanking HTTP/1.1\u001b[0m\" 200 -\n"
     ]
    },
    {
     "name": "stdout",
     "output_type": "stream",
     "text": [
      "you can't buy much for a dollar anymore.\n",
      "you can't buy much for a dollar anymore.\n"
     ]
    }
   ],
   "source": [
    "from flask_ngrok import run_with_ngrok\n",
    "from flask import Flask\n",
    "app = Flask(__name__)\n",
    "#run_with_ngrok(app)   #starts ngrok when the app is run\n",
    "@app.route(\"/\")\n",
    "def home():\n",
    "    return render_template('chatbot.html')\n",
    "@app.route(\"/get\")\n",
    "def get_bot_response():\n",
    "    userText = request.args.get('msg')\n",
    "    print(type(userText))\n",
    "    a=str(generateResponse(userText))\n",
    "    print(a)\n",
    "    sent_tokens.remove(userText)\n",
    "    return a\n",
    "app.run()"
   ]
  },
  {
   "cell_type": "code",
   "execution_count": null,
   "id": "center-recipient",
   "metadata": {},
   "outputs": [],
   "source": []
  },
  {
   "cell_type": "code",
   "execution_count": null,
   "id": "pregnant-meditation",
   "metadata": {},
   "outputs": [],
   "source": []
  }
 ],
 "metadata": {
  "kernelspec": {
   "display_name": "Python 3",
   "language": "python",
   "name": "python3"
  },
  "language_info": {
   "codemirror_mode": {
    "name": "ipython",
    "version": 3
   },
   "file_extension": ".py",
   "mimetype": "text/x-python",
   "name": "python",
   "nbconvert_exporter": "python",
   "pygments_lexer": "ipython3",
   "version": "3.7.9"
  }
 },
 "nbformat": 4,
 "nbformat_minor": 5
}
